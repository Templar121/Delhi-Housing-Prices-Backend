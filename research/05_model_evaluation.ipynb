{
 "cells": [
  {
   "cell_type": "code",
   "execution_count": 1,
   "id": "59562aeb",
   "metadata": {},
   "outputs": [
    {
     "data": {
      "text/plain": [
       "'h:\\\\Personal Projects\\\\Indian-Housing-Prices-Backend'"
      ]
     },
     "execution_count": 1,
     "metadata": {},
     "output_type": "execute_result"
    }
   ],
   "source": [
    "import os\n",
    "os.chdir('../')\n",
    "%pwd"
   ]
  },
  {
   "cell_type": "code",
   "execution_count": 2,
   "id": "cf270d22",
   "metadata": {},
   "outputs": [],
   "source": [
    "from dataclasses import dataclass\n",
    "from pathlib import Path\n",
    "\n",
    "\n",
    "@dataclass(frozen=True)\n",
    "class ModelEvaluationConfig:\n",
    "    root_dir: Path\n",
    "    test_data_path: Path\n",
    "    model_path: Path\n",
    "    all_params: dict\n",
    "    metric_file_name: Path\n",
    "    target_column: str"
   ]
  },
  {
   "cell_type": "code",
   "execution_count": 3,
   "id": "7b9dcb9b",
   "metadata": {},
   "outputs": [],
   "source": [
    "from houseProject.constants import *\n",
    "from houseProject.utils.common import read_yaml, create_directories, save_json"
   ]
  },
  {
   "cell_type": "code",
   "execution_count": 4,
   "id": "fa3877a0",
   "metadata": {},
   "outputs": [],
   "source": [
    "class ConfigurationManager:\n",
    "    def __init__(\n",
    "        self,\n",
    "        config_filepath = CONFIG_FILE_PATH,\n",
    "        params_filepath = PARAMS_FILE_PATH,\n",
    "        schema_filepath = SCHEMA_FILE_PATH):\n",
    "\n",
    "        self.config = read_yaml(config_filepath)\n",
    "        self.params = read_yaml(params_filepath)\n",
    "        self.schema = read_yaml(schema_filepath)\n",
    "\n",
    "        create_directories([self.config.artifacts_root])\n",
    "\n",
    "    \n",
    "    def get_model_evaluation_config(self) -> ModelEvaluationConfig:\n",
    "        config = self.config.model_evaluation\n",
    "        params = self.params.CatBoostRegressor\n",
    "        schema =  self.schema.TARGET_COLUMN\n",
    "\n",
    "        create_directories([config.root_dir])\n",
    "\n",
    "        model_evaluation_config = ModelEvaluationConfig(\n",
    "            root_dir=config.root_dir,\n",
    "            test_data_path=config.test_data_path,\n",
    "            model_path = config.model_path,\n",
    "            all_params=params,\n",
    "            metric_file_name = config.metric_file_name,\n",
    "            target_column = schema.name\n",
    "           \n",
    "        )\n",
    "\n",
    "        return model_evaluation_config"
   ]
  },
  {
   "cell_type": "code",
   "execution_count": 5,
   "id": "ba5bb88d",
   "metadata": {},
   "outputs": [],
   "source": [
    "import os\n",
    "import pandas as pd\n",
    "from sklearn.metrics import mean_absolute_error, mean_squared_error, r2_score, median_absolute_error, explained_variance_score\n",
    "from urllib.parse import urlparse\n",
    "import numpy as np\n",
    "import joblib"
   ]
  },
  {
   "cell_type": "code",
   "execution_count": 6,
   "id": "8577a0fe",
   "metadata": {},
   "outputs": [],
   "source": [
    "class ModelEvaluation:\n",
    "    def __init__(self, config: ModelEvaluationConfig):\n",
    "        self.config = config\n",
    "\n",
    "    \n",
    "    def evaluate_model(self, actual, pred):\n",
    "        mae = mean_absolute_error(actual, pred)\n",
    "        mse = mean_squared_error(actual, pred)\n",
    "        rmse = np.sqrt(mse)\n",
    "        r2_square = r2_score(actual, pred)\n",
    "        med_ae = median_absolute_error(actual, pred)\n",
    "        evs = explained_variance_score(actual, pred)\n",
    "        \n",
    "        return mae, mse, rmse, r2_square, med_ae, evs\n",
    "\n",
    "    \n",
    "\n",
    "\n",
    "    def save_results(self):\n",
    "\n",
    "        test_data = pd.read_csv(self.config.test_data_path)\n",
    "        model = joblib.load(self.config.model_path)\n",
    "\n",
    "        test_x = test_data.drop([self.config.target_column], axis=1)\n",
    "        test_y = test_data[[self.config.target_column]]\n",
    "        \n",
    "        predicted_qualities = model.predict(test_x)\n",
    "\n",
    "        (mae, mse, rmse, r2, med_ae, evs) = self.evaluate_model(test_y, predicted_qualities)\n",
    "        \n",
    "        # Saving metrics as local\n",
    "        scores = {'MAE': mae, 'MSE': mse, 'RMSE': rmse, 'R2 Score': r2, 'Median AE': med_ae, 'Explained Variance Score': evs}\n",
    "        save_json(path=Path(self.config.metric_file_name), data=scores)"
   ]
  },
  {
   "cell_type": "code",
   "execution_count": 7,
   "id": "5231fdb9",
   "metadata": {},
   "outputs": [
    {
     "name": "stdout",
     "output_type": "stream",
     "text": [
      "[2025-05-19 20:56:47,246: INFO: common: yaml file: config\\config.yaml loaded successfully]\n",
      "[2025-05-19 20:56:47,246: INFO: common: yaml file: params.yaml loaded successfully]\n",
      "[2025-05-19 20:56:47,246: INFO: common: yaml file: schema.yaml loaded successfully]\n",
      "[2025-05-19 20:56:47,246: INFO: common: created directory at: artifacts]\n",
      "[2025-05-19 20:56:47,261: INFO: common: created directory at: artifacts/model_evaluation]\n",
      "[2025-05-19 20:56:49,294: INFO: common: json file saved at: artifacts\\model_evaluation\\metrics.json]\n"
     ]
    }
   ],
   "source": [
    "try:\n",
    "    config = ConfigurationManager()\n",
    "    model_evaluation_config = config.get_model_evaluation_config()\n",
    "    model_evaluation_config = ModelEvaluation(config=model_evaluation_config)\n",
    "    model_evaluation_config.save_results()\n",
    "except Exception as e:\n",
    "    raise e"
   ]
  },
  {
   "cell_type": "code",
   "execution_count": null,
   "id": "750ae846",
   "metadata": {},
   "outputs": [],
   "source": []
  }
 ],
 "metadata": {
  "kernelspec": {
   "display_name": "houseproj",
   "language": "python",
   "name": "python3"
  },
  "language_info": {
   "codemirror_mode": {
    "name": "ipython",
    "version": 3
   },
   "file_extension": ".py",
   "mimetype": "text/x-python",
   "name": "python",
   "nbconvert_exporter": "python",
   "pygments_lexer": "ipython3",
   "version": "3.12.9"
  }
 },
 "nbformat": 4,
 "nbformat_minor": 5
}
